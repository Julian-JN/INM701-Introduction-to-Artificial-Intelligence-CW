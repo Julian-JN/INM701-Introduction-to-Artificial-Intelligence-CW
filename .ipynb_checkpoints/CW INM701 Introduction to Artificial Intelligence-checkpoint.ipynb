{
 "cells": [
  {
   "cell_type": "code",
   "execution_count": 1,
   "id": "ff572017",
   "metadata": {},
   "outputs": [],
   "source": [
    "import matplotlib.pyplot as plt\n",
    "import pandas as pd\n",
    "import numpy as np\n",
    "import os\n",
    "from sklearn.preprocessing import LabelEncoder"
   ]
  },
  {
   "cell_type": "code",
   "execution_count": 8,
   "id": "390973f6",
   "metadata": {},
   "outputs": [
    {
     "name": "stdout",
     "output_type": "stream",
     "text": [
      "         Date      Time  CO(GT)  PT08.S1(CO)  NMHC(GT)  C6H6(GT)  \\\n",
      "0  10/03/2004  18.00.00     2.6       1360.0     150.0      11.9   \n",
      "1  10/03/2004  19.00.00     2.0       1292.0     112.0       9.4   \n",
      "2  10/03/2004  20.00.00     2.2       1402.0      88.0       9.0   \n",
      "3  10/03/2004  21.00.00     2.2       1376.0      80.0       9.2   \n",
      "4  10/03/2004  22.00.00     1.6       1272.0      51.0       6.5   \n",
      "\n",
      "   PT08.S2(NMHC)  NOx(GT)  PT08.S3(NOx)  NO2(GT)  PT08.S4(NO2)  PT08.S5(O3)  \\\n",
      "0         1046.0    166.0        1056.0    113.0        1692.0       1268.0   \n",
      "1          955.0    103.0        1174.0     92.0        1559.0        972.0   \n",
      "2          939.0    131.0        1140.0    114.0        1555.0       1074.0   \n",
      "3          948.0    172.0        1092.0    122.0        1584.0       1203.0   \n",
      "4          836.0    131.0        1205.0    116.0        1490.0       1110.0   \n",
      "\n",
      "      T    RH      AH  Unnamed: 15  Unnamed: 16  \n",
      "0  13.6  48.9  0.7578          NaN          NaN  \n",
      "1  13.3  47.7  0.7255          NaN          NaN  \n",
      "2  11.9  54.0  0.7502          NaN          NaN  \n",
      "3  11.0  60.0  0.7867          NaN          NaN  \n",
      "4  11.2  59.6  0.7888          NaN          NaN  \n",
      "<class 'pandas.core.frame.DataFrame'>\n",
      "RangeIndex: 9471 entries, 0 to 9470\n",
      "Data columns (total 17 columns):\n",
      " #   Column         Non-Null Count  Dtype  \n",
      "---  ------         --------------  -----  \n",
      " 0   Date           9357 non-null   object \n",
      " 1   Time           9357 non-null   object \n",
      " 2   CO(GT)         7674 non-null   float64\n",
      " 3   PT08.S1(CO)    8991 non-null   float64\n",
      " 4   NMHC(GT)       914 non-null    float64\n",
      " 5   C6H6(GT)       8991 non-null   float64\n",
      " 6   PT08.S2(NMHC)  8991 non-null   float64\n",
      " 7   NOx(GT)        7718 non-null   float64\n",
      " 8   PT08.S3(NOx)   8991 non-null   float64\n",
      " 9   NO2(GT)        7715 non-null   float64\n",
      " 10  PT08.S4(NO2)   8991 non-null   float64\n",
      " 11  PT08.S5(O3)    8991 non-null   float64\n",
      " 12  T              8991 non-null   float64\n",
      " 13  RH             8991 non-null   float64\n",
      " 14  AH             8991 non-null   float64\n",
      " 15  Unnamed: 15    0 non-null      float64\n",
      " 16  Unnamed: 16    0 non-null      float64\n",
      "dtypes: float64(15), object(2)\n",
      "memory usage: 1.2+ MB\n",
      "None\n",
      "(9471, 17)\n",
      "Date              114\n",
      "Time              114\n",
      "CO(GT)           1797\n",
      "PT08.S1(CO)       480\n",
      "NMHC(GT)         8557\n",
      "C6H6(GT)          480\n",
      "PT08.S2(NMHC)     480\n",
      "NOx(GT)          1753\n",
      "PT08.S3(NOx)      480\n",
      "NO2(GT)          1756\n",
      "PT08.S4(NO2)      480\n",
      "PT08.S5(O3)       480\n",
      "T                 480\n",
      "RH                480\n",
      "AH                480\n",
      "Unnamed: 15      9471\n",
      "Unnamed: 16      9471\n",
      "dtype: int64\n"
     ]
    }
   ],
   "source": [
    "path = \".\"\n",
    "filename_read = os.path.join(path, \"AirQuality.csv\")\n",
    "dataset = pd.read_csv(filename_read, sep = \";\", decimal = \",\")\n",
    "dataset.replace(to_replace = -200, value = np.nan, inplace = True)\n",
    "\n",
    "print(dataset.head())\n",
    "print(dataset.info())\n",
    "print(dataset.shape)\n",
    "print(dataset.isnull().sum(axis = 0))"
   ]
  },
  {
   "cell_type": "code",
   "execution_count": 19,
   "id": "48cfed84",
   "metadata": {},
   "outputs": [
    {
     "name": "stdout",
     "output_type": "stream",
     "text": [
      "<class 'pandas.core.frame.DataFrame'>\n",
      "Index: 6941 entries, 0 to 9356\n",
      "Data columns (total 14 columns):\n",
      " #   Column         Non-Null Count  Dtype  \n",
      "---  ------         --------------  -----  \n",
      " 0   Date           6941 non-null   object \n",
      " 1   Time           6941 non-null   object \n",
      " 2   CO(GT)         6941 non-null   float64\n",
      " 3   PT08.S1(CO)    6941 non-null   float64\n",
      " 4   C6H6(GT)       6941 non-null   float64\n",
      " 5   PT08.S2(NMHC)  6941 non-null   float64\n",
      " 6   NOx(GT)        6941 non-null   float64\n",
      " 7   PT08.S3(NOx)   6941 non-null   float64\n",
      " 8   NO2(GT)        6941 non-null   float64\n",
      " 9   PT08.S4(NO2)   6941 non-null   float64\n",
      " 10  PT08.S5(O3)    6941 non-null   float64\n",
      " 11  T              6941 non-null   float64\n",
      " 12  RH             6941 non-null   float64\n",
      " 13  AH             6941 non-null   float64\n",
      "dtypes: float64(12), object(2)\n",
      "memory usage: 813.4+ KB\n",
      "None\n"
     ]
    }
   ],
   "source": [
    "dataset.drop(['NMHC(GT)','Unnamed: 15', 'Unnamed: 16'], axis = 1,inplace=True, errors = 'ignore')\n",
    "# Test performance change by dropping NA values or filling them with average of their column\n",
    "dataset.dropna(inplace=True)\n",
    "\n",
    "# fill_mean = lambda col : col.fillna(col.mean())\n",
    "# dataset.apply(fill_mean, axis = 0)\n",
    "print(dataset.info())"
   ]
  },
  {
   "cell_type": "code",
   "execution_count": null,
   "id": "3ca8bf21",
   "metadata": {},
   "outputs": [],
   "source": [
    "path = \".\"\n",
    "\n",
    "#read in the data as csv\n",
    "filename_read = os.path.join(path, \"AirQuality.csv\")\n",
    "dataset = pd.read_csv(filename_read)\n",
    "\n",
    "print(dataset.head())\n",
    "print(dataset.info())\n",
    "\n",
    "\n",
    "# dataset.drop(dataset.columns[0],axis=1, inplace=True)\n",
    "# dataset.drop(['artist_name', 'track_id'], axis=1, inplace=True)\n",
    "# dataset = dataset.sample(frac=0.1)\n",
    "#dataset['popularity'] = np.where(dataset['popularity'] < 50, 0, 1)\n",
    "# labels = dataset['popularity']\n",
    "\n",
    "\n",
    "# le = LabelEncoder()\n",
    "# # for label in ['artist_name', 'track_name','track_id', 'genre']:\n",
    "# for label in ['track_name', 'genre']:\n",
    "#     dataset[label] = le.fit_transform(dataset[label])\n",
    "# # dataset[['artist_name', 'track_name','track_id', 'genre']] = dataset[['artist_name', 'track_name','track_id', 'genre']].astype(float)\n",
    "\n",
    "# #print(labels)\n",
    "# print(dataset.head())\n",
    "# print(dataset.info())\n",
    "\n",
    "# dataset_final = dataset.drop('popularity',axis=1)\n",
    "\n",
    "# X = dataset_final.values\n",
    "# #print(X[:10])\n",
    "# y = labels\n",
    "# print(y[:10])\n",
    "\n",
    "# print(dataset_final.columns)\n",
    "# print(X.shape)\n",
    "# print(y.shape)\n",
    "# print(type(X))  \n",
    "# print(type(y))  \n",
    "\n"
   ]
  },
  {
   "cell_type": "code",
   "execution_count": null,
   "id": "a6da30a5",
   "metadata": {},
   "outputs": [],
   "source": [
    "corr = dataset.corr()\n",
    "corr.style.background_gradient(cmap='coolwarm')"
   ]
  },
  {
   "cell_type": "code",
   "execution_count": null,
   "id": "2431d637",
   "metadata": {},
   "outputs": [],
   "source": [
    "print(dataset.iloc[:,:4])"
   ]
  },
  {
   "cell_type": "code",
   "execution_count": null,
   "id": "cc7708d2",
   "metadata": {
    "scrolled": true
   },
   "outputs": [],
   "source": [
    "import seaborn as sns\n",
    "# dataset_percent = dataset.sample(frac=0.2)\n",
    "g = sns.PairGrid(dataset.iloc[:,:4], hue=\"popularity\")\n",
    "g.map_diag(sns.histplot)\n",
    "g.map_offdiag(sns.scatterplot)\n",
    "g.add_legend()"
   ]
  },
  {
   "cell_type": "code",
   "execution_count": null,
   "id": "fc896165",
   "metadata": {},
   "outputs": [],
   "source": [
    "from sklearn.model_selection import train_test_split\n",
    "print(X.shape)\n",
    "print(y.shape)\n",
    "\n",
    "Xtrain, Xtest, ytrain, ytest = train_test_split(X, y, test_size=0.25, random_state=7)\n",
    "print(ytrain[:10])\n",
    "print(ytest[:10])"
   ]
  },
  {
   "cell_type": "code",
   "execution_count": null,
   "id": "8e33b080",
   "metadata": {},
   "outputs": [],
   "source": [
    "from sklearn.linear_model import LinearRegression\n",
    "from sklearn import svm\n",
    "from sklearn import metrics\n",
    "\n",
    "model = svm.SVR()\n",
    "# model = LinearRegression(fit_intercept=True)\n",
    "print(model)\n",
    "model.fit(Xtrain, ytrain)\n",
    "print(model.coef_)\n",
    "ypred = model.predict(Xtest)\n",
    "\n",
    "print(ytest[:10])\n",
    "print(ytest.shape)\n",
    "print(ypred[:10])\n",
    "print(ypred.shape)\n",
    "\n",
    "print('Root Mean Squared Error:', np.sqrt(metrics.mean_squared_error(ytest, ypred)))"
   ]
  },
  {
   "cell_type": "code",
   "execution_count": null,
   "id": "8e38ae49",
   "metadata": {},
   "outputs": [],
   "source": [
    "def chart_regression(pred, y, sort=True):\n",
    "    t = pd.DataFrame({'pred': pred, 'y': y.flatten()})\n",
    "    if sort:\n",
    "        t.sort_values(by=['y'], inplace=True)\n",
    "    plt.plot(t['y'].tolist(), label='expected')\n",
    "    plt.plot(t['pred'].tolist(), label='prediction')\n",
    "    plt.ylabel('output')\n",
    "    plt.legend()\n",
    "    plt.show()\n",
    "    \n",
    "chart_regression(ypred[:100].flatten(),ytest[:100].to_numpy(),sort=True)  "
   ]
  },
  {
   "cell_type": "code",
   "execution_count": null,
   "id": "8dbd8395",
   "metadata": {},
   "outputs": [],
   "source": [
    "from sklearn.neighbors import KNeighborsClassifier\n",
    "from sklearn.metrics import accuracy_score\n",
    "\n",
    "knn = KNeighborsClassifier(1)\n",
    "knn.fit(Xtrain, ytrain)\n",
    "predict = knn.predict(Xtest)\n",
    "accuracy = accuracy_score(ytest, predict)\n",
    "print(accuracy)"
   ]
  },
  {
   "cell_type": "code",
   "execution_count": null,
   "id": "5305cf2f",
   "metadata": {},
   "outputs": [],
   "source": [
    "from sklearn.naive_bayes import GaussianNB\n",
    "from sklearn.metrics import accuracy_score\n",
    "\n",
    "gaussian = GaussianNB()\n",
    "gaussian.fit(Xtrain, ytrain)\n",
    "predict = gaussian.predict(Xtest)\n",
    "accuracy = accuracy_score(ytest, predict)\n",
    "print(accuracy)"
   ]
  },
  {
   "cell_type": "code",
   "execution_count": null,
   "id": "afb55eca",
   "metadata": {},
   "outputs": [],
   "source": []
  }
 ],
 "metadata": {
  "kernelspec": {
   "display_name": "Python 3 (ipykernel)",
   "language": "python",
   "name": "python3"
  },
  "language_info": {
   "codemirror_mode": {
    "name": "ipython",
    "version": 3
   },
   "file_extension": ".py",
   "mimetype": "text/x-python",
   "name": "python",
   "nbconvert_exporter": "python",
   "pygments_lexer": "ipython3",
   "version": "3.8.18"
  }
 },
 "nbformat": 4,
 "nbformat_minor": 5
}
